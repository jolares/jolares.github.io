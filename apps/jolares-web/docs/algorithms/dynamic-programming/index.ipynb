{
 "cells": [
  {
   "attachments": {},
   "cell_type": "raw",
   "metadata": {},
   "source": [
    "---\n",
    "sidebar_position: 1\n",
    "---"
   ]
  },
  {
   "attachments": {},
   "cell_type": "markdown",
   "metadata": {},
   "source": [
    "# Dynamic Programming (DP)"
   ]
  },
  {
   "attachments": {},
   "cell_type": "markdown",
   "metadata": {},
   "source": [
    "- Computing Fibonacci numbers\n",
    "- Longest Increasing Subsequence (LIS) problems\n",
    "- Longest Common Subsequence (LCS) problems\n",
    "- Knapsack problem\n",
    "- Chain Matrix Multiplication\n",
    "- Shortest Path algorithms using DP\n",
    "\n",
    "\n",
    "## Fibonacci Numbers\n",
    "\n",
    "The next Fibonacci number can be computed recursively as the sum of the previous two\n",
    "Fibonacci numbers\n",
    "\n",
    "\n",
    "# Chapter 6 Summary of [2]\n",
    "\n",
    "\n",
    "DP techniques have a broad applications, often useful when more specialized methods fail, and generally at the cost of lower efficiency.\n",
    "\n",
    "DP is an algorithmic paradigm where we solve a problem by identifying a collection\n",
    "of subproblems, solved one by one starting with the smallest ones, and using their solutions to then solve the larger ones until we solved the collection of problems we are originally interested in.\n",
    "\n",
    "DP does not use DAGs in an explicit way, but rather implicitly:\n",
    "- Nodes are subproblems we define\n",
    "- Edges are dependencies between subproblems, where a larger subproblem depends in [solving first] a smaller subproblem.\n",
    "\n",
    "\n",
    "## References\n",
    "\n",
    "[1]: <https://www.udacity.com/course/introduction-to-graduate-algorithms--ud401> \"Introduction to Graduate Algorithms\"\n",
    "\n",
    "[2]: <https://www.goodreads.com/book/show/138563.Algorithms> \"Algorithms by Dasgupta, Papadimitriou, and Vazirani\"\n",
    "\n"
   ]
  },
  {
   "cell_type": "code",
   "execution_count": 46,
   "metadata": {},
   "outputs": [
    {
     "data": {
      "text/plain": [
       "2"
      ]
     },
     "execution_count": 46,
     "metadata": {},
     "output_type": "execute_result"
    }
   ],
   "source": [
    "def fibonacci(n: int):\n",
    "    \"\"\"Returns the Fibonacci number at the n-th position using Recursion\"\"\"\n",
    "    # Runtime is O(1)\n",
    "    if n < 2:\n",
    "        return n\n",
    "\n",
    "    return fibonacci(n-1) + fibonacci(n-2) # Runtime is O(n-1) + O(n-2)\n",
    "\n",
    "def fibonacci(n: int):\n",
    "    \"\"\"Returns the Fibonacci number at the n-th position using Dynamic Programming\"\"\"\n",
    "    if n < 2:           # The runtime is O(1)\n",
    "        return n\n",
    "\n",
    "    F = [None] * n # The runtime is O(1)\n",
    "    F[0] = 0       # The runtime is O(1)\n",
    "    F[1] = 1       # The runtime is O(1)\n",
    "\n",
    "    for i in range(2, n): # The runtime is O(n)\n",
    "        F[i] = F[i-1] + F[i-2] # The runtime is O(1)\n",
    "\n",
    "    return F[n-1]\n",
    "\n"
   ]
  },
  {
   "cell_type": "code",
   "execution_count": null,
   "metadata": {},
   "outputs": [],
   "source": []
  }
 ],
 "metadata": {
  "kernelspec": {
   "display_name": "Python 3",
   "language": "python",
   "name": "python3"
  },
  "language_info": {
   "codemirror_mode": {
    "name": "ipython",
    "version": 3
   },
   "file_extension": ".py",
   "mimetype": "text/x-python",
   "name": "python",
   "nbconvert_exporter": "python",
   "pygments_lexer": "ipython3",
   "version": "3.9.7"
  },
  "orig_nbformat": 4
 },
 "nbformat": 4,
 "nbformat_minor": 2
}
